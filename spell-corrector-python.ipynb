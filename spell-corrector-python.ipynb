{
 "cells": [
  {
   "cell_type": "code",
   "execution_count": 119,
   "metadata": {},
   "outputs": [],
   "source": [
    "import re\n",
    "from collections import Counter\n",
    "from pathlib import Path"
   ]
  },
  {
   "cell_type": "code",
   "execution_count": 120,
   "metadata": {},
   "outputs": [],
   "source": [
    "# function to tokenise words\n",
    "def words(document):\n",
    "    \"Convert text to lower case and tokenise the document\"\n",
    "    return re.findall(r'\\w+', document.lower())"
   ]
  },
  {
   "cell_type": "code",
   "execution_count": 121,
   "metadata": {},
   "outputs": [],
   "source": [
    "folder = Path(\"C:/Upgrad Projects/NLP-M1\")"
   ]
  },
  {
   "cell_type": "code",
   "execution_count": 122,
   "metadata": {},
   "outputs": [],
   "source": [
    "# create a frequency table of all the words of the document\n",
    "all_words = Counter(words(open(folder/'big.txt').read()))"
   ]
  },
  {
   "cell_type": "code",
   "execution_count": 123,
   "metadata": {},
   "outputs": [
    {
     "data": {
      "text/plain": [
       "135"
      ]
     },
     "execution_count": 123,
     "metadata": {},
     "output_type": "execute_result"
    }
   ],
   "source": [
    "# check frequency of a random word, say, 'chair'\n",
    "all_words['chair']"
   ]
  },
  {
   "cell_type": "code",
   "execution_count": 124,
   "metadata": {},
   "outputs": [
    {
     "data": {
      "text/plain": [
       "[('the', 79809),\n",
       " ('of', 40024),\n",
       " ('and', 38312),\n",
       " ('to', 28765),\n",
       " ('in', 22023),\n",
       " ('a', 21124),\n",
       " ('that', 12512),\n",
       " ('he', 12401),\n",
       " ('was', 11410),\n",
       " ('it', 10681)]"
      ]
     },
     "execution_count": 124,
     "metadata": {},
     "output_type": "execute_result"
    }
   ],
   "source": [
    "# look at top 10 frequent words\n",
    "all_words.most_common(10)"
   ]
  },
  {
   "cell_type": "code",
   "execution_count": 125,
   "metadata": {},
   "outputs": [],
   "source": [
    "def edits_one(word):\n",
    "    \"Create all edits that are one edit away from `word`.\"\n",
    "    alphabets    = 'abcdefghijklmnopqrstuvwxyz'\n",
    "#   print([i for i in range(len(word) + 1)])\n",
    "    splits     = [(word[:i], word[i:])                   for i in range(len(word) + 1)]\n",
    "#     print('splits')\n",
    "#     print(splits)\n",
    "\n",
    "#     dels = []\n",
    "#     for left, right in splits:\n",
    "#         print('left = {}, right = {}'.format(left, right))\n",
    "#         if right:\n",
    "#               dels.append(left + right[1:])\n",
    "#               print(dels)  \n",
    "    \n",
    "    deletes    = [left + right[1:]                       for left, right in splits if right]\n",
    "#     print('deletes')\n",
    "#     print(deletes)\n",
    "#     print('dels')\n",
    "#     print(dels)\n",
    "              \n",
    "\n",
    "    inserts    = [left + c + right                       for left, right in splits for c in alphabets]\n",
    "#     print('inserts')\n",
    "#     print(inserts)\n",
    "    replaces   = [left + c + right[1:]                   for left, right in splits if right for c in alphabets]\n",
    "#     print('--- Inside Replaces ---')\n",
    "#     print(replaces)\n",
    "#     print('--- Inside Transposes ---')\n",
    "    trans = []\n",
    "#     for left, right in splits:\n",
    "#         print('outside left = {}, right = {}'.format(left, right))\n",
    "#         if len(right)>1:\n",
    "#             print('inside left = {}, right = {}'.format(left, right))\n",
    "#             trans.append(left + right[1] + right[0] + right[2:])\n",
    "#             print(trans)\n",
    "#     print('trans')\n",
    "#     print(trans)        \n",
    "    transposes = [left + right[1] + right[0] + right[2:] for left, right in splits if len(right)>1]\n",
    "#     print('transposes')\n",
    "#     print(transposes)\n",
    "    return set(deletes + inserts + replaces + transposes)"
   ]
  },
  {
   "cell_type": "code",
   "execution_count": 126,
   "metadata": {},
   "outputs": [],
   "source": [
    "def edits_two(word):\n",
    "    \"Create all edits that are two edits away from `word`.\"\n",
    "    return (e2 for e1 in edits_one(word) for e2 in edits_one(e1))"
   ]
  },
  {
   "cell_type": "code",
   "execution_count": 127,
   "metadata": {},
   "outputs": [],
   "source": [
    "def known(words):\n",
    "    \"The subset of `words` that appear in the `all_words`.\"\n",
    "    return set(word for word in words if word in all_words)"
   ]
  },
  {
   "cell_type": "code",
   "execution_count": 128,
   "metadata": {},
   "outputs": [],
   "source": [
    "def possible_corrections(word):\n",
    "    \"Generate possible spelling corrections for word.\"\n",
    "    return (known([word]) or known(edits_one(word)) or known(edits_two(word)) or [word])"
   ]
  },
  {
   "cell_type": "code",
   "execution_count": 129,
   "metadata": {},
   "outputs": [
    {
     "data": {
      "text/plain": [
       "1115585"
      ]
     },
     "execution_count": 129,
     "metadata": {},
     "output_type": "execute_result"
    }
   ],
   "source": [
    "sum(all_words.values())"
   ]
  },
  {
   "cell_type": "code",
   "execution_count": 130,
   "metadata": {},
   "outputs": [],
   "source": [
    "def prob(word, N=sum(all_words.values())): \n",
    "    \"Probability of `word`: Number of appearances of 'word' / total number of tokens\"\n",
    "    return all_words[word] / N"
   ]
  },
  {
   "cell_type": "code",
   "execution_count": 131,
   "metadata": {},
   "outputs": [
    {
     "name": "stdout",
     "output_type": "stream",
     "text": [
      "336\n",
      "{'myonney', 'nmonney', 'menney', 'monned', 'mojnney', 'mkonney', 'monnefy', 'dmonney', 'monngey', 'money', 'mohnney', 'monneyd', 'monneyx', 'conney', 'mgonney', 'monvey', 'monnedy', 'jonney', 'monnay', 'monntey', 'monnei', 'montey', 'gonney', 'monnqey', 'monneyb', 'mgnney', 'monwney', 'monneyh', 'mohney', 'monnehy', 'mlonney', 'monhey', 'monhney', 'monneya', 'monqney', 'mooney', 'vmonney', 'mogney', 'moanney', 'monnep', 'monnny', 'monnec', 'monnyy', 'mondney', 'monnkey', 'aonney', 'monnee', 'monnen', 'omonney', 'monnyey', 'monnepy', 'monneyi', 'mqonney', 'hmonney', 'mmonney', 'lmonney', 'mobney', 'monniy', 'kmonney', 'monneyz', 'xonney', 'monnfey', 'monnzy', 'monnuy', 'mdonney', 'monnea', 'monsney', 'ionney', 'monndy', 'monrney', 'mcnney', 'monneny', 'monnek', 'maonney', 'mvnney', 'mponney', 'mwonney', 'monkney', 'msonney', 'monneyr', 'ronney', 'mdnney', 'monnley', 'mnoney', 'monnecy', 'mongney', 'mwnney', 'momnney', 'moniey', 'mofney', 'monneu', 'monneyc', 'umonney', 'moncey', 'mownney', 'monnex', 'onney', 'oonney', 'ymonney', 'moaney', 'cmonney', 'monzey', 'qmonney', 'monneb', 'rmonney', 'mtonney', 'monnvy', 'mhonney', 'amonney', 'modnney', 'moneey', 'xmonney', 'monnoy', 'monnef', 'mconney', 'mounney', 'honney', 'smonney', 'monneyw', 'monnty', 'monneo', 'monpney', 'monneyj', 'monniey', 'monuey', 'monner', 'moneny', 'monnez', 'monnrey', 'monneky', 'monrey', 'monneys', 'monneoy', 'monyey', 'bonney', 'mynney', 'mbonney', 'monnem', 'minney', 'monjey', 'monjney', 'moznney', 'moeney', 'monaney', 'mzonney', 'mobnney', 'monndey', 'monnfy', 'mosney', 'monwey', 'monxney', 'monlney', 'mokney', 'mfnney', 'monnwy', 'monbey', 'monnsey', 'monneym', 'mosnney', 'monnwey', 'mionney', 'monaey', 'tonney', 'movney', 'moneney', 'mxonney', 'monneyo', 'mnney', 'bmonney', 'monneyf', 'mozney', 'monnby', 'emonney', 'mononey', 'mouney', 'moiney', 'fonney', 'monny', 'monnvey', 'motnney', 'monneyn', 'ponney', 'monnjy', 'mhnney', 'mvonney', 'monnsy', 'monnev', 'monneuy', 'monneby', 'monnet', 'konney', 'modney', 'monuney', 'uonney', 'lonney', 'mlnney', 'molnney', 'monnmey', 'monnuey', 'monneqy', 'monnej', 'monnewy', 'yonney', 'monfey', 'monnesy', 'pmonney', 'monneey', 'mojney', 'mofnney', 'moknney', 'mopnney', 'montney', 'monnbey', 'monnjey', 'monnoey', 'monnely', 'monneyt', 'mbnney', 'mrnney', 'monnly', 'tmonney', 'momney', 'muonney', 'mornney', 'monnky', 'monbney', 'movnney', 'moyney', 'mronney', 'monnew', 'mocnney', 'monnemy', 'moxnney', 'monzney', 'monneyp', 'monsey', 'monnpy', 'monnry', 'monnney', 'monvney', 'monne', 'morney', 'wonney', 'imonney', 'mqnney', 'mnonney', 'moqnney', 'monnxey', 'mognney', 'mznney', 'monpey', 'fmonney', 'qonney', 'monoey', 'monfney', 'monnel', 'gmonney', 'mjonney', 'donney', 'monkey', 'moniney', 'monnery', 'monnpey', 'msnney', 'mxnney', 'manney', 'monley', 'monneh', 'monnye', 'mjnney', 'monnejy', 'monnes', 'monneq', 'monnety', 'monneyl', 'motney', 'monnmy', 'mfonney', 'moqney', 'monnegy', 'nonney', 'monneay', 'monneyg', 'mongey', 'monqey', 'omnney', 'monney', 'moxney', 'monneyq', 'zmonney', 'moinney', 'mocney', 'monneye', 'monneyk', 'monncey', 'mowney', 'monmney', 'eonney', 'monmey', 'monnqy', 'monnaey', 'monnevy', 'monnhey', 'monyney', 'meonney', 'monneiy', 'vonney', 'monneyy', 'munney', 'monneg', 'jmonney', 'monnezy', 'moncney', 'monncy', 'moonney', 'monngy', 'wmonney', 'zonney', 'mnnney', 'molney', 'monneyv', 'mknney', 'mopney', 'mpnney', 'monnzey', 'sonney', 'monnxy', 'moenney', 'mtnney', 'moynney', 'monneyu', 'monxey', 'monnexy', 'monnhy', 'mmnney', 'mondey'}\n"
     ]
    }
   ],
   "source": [
    "print(len(set(edits_one(\"monney\"))))\n",
    "print(edits_one(\"monney\"))"
   ]
  },
  {
   "cell_type": "code",
   "execution_count": 132,
   "metadata": {},
   "outputs": [
    {
     "name": "stdout",
     "output_type": "stream",
     "text": [
      "{'monkey', 'money'}\n"
     ]
    }
   ],
   "source": [
    "print(known(edits_one(\"monney\")))"
   ]
  },
  {
   "cell_type": "code",
   "execution_count": 133,
   "metadata": {},
   "outputs": [
    {
     "name": "stdout",
     "output_type": "stream",
     "text": [
      "51013\n",
      "{'convey', 'bonny', 'morley', 'donne', 'motley', 'monkey', 'money', 'monkeys', 'honey', 'manned', 'moines', 'bonne', 'manner', 'donkey', 'bonnet', 'monday', 'moaned', 'olney', 'monger', 'donned', 'tonne'}\n"
     ]
    }
   ],
   "source": [
    "# Let's look at words that are two edits away\n",
    "print(len(set(edits_two(\"monney\"))))\n",
    "print(known(edits_two(\"monney\")))"
   ]
  },
  {
   "cell_type": "code",
   "execution_count": 134,
   "metadata": {},
   "outputs": [
    {
     "name": "stdout",
     "output_type": "stream",
     "text": [
      "{'monkey', 'money'}\n"
     ]
    }
   ],
   "source": [
    "# Let's look at possible corrections of a word\n",
    "print(possible_corrections(\"monney\"))"
   ]
  },
  {
   "cell_type": "code",
   "execution_count": 135,
   "metadata": {},
   "outputs": [
    {
     "name": "stdout",
     "output_type": "stream",
     "text": [
      "0.0002922233626303688\n",
      "5.378344097491451e-06\n"
     ]
    }
   ],
   "source": [
    "# Let's look at probability of a word\n",
    "print(prob(\"money\"))\n",
    "print(prob(\"monkey\"))"
   ]
  },
  {
   "cell_type": "code",
   "execution_count": 136,
   "metadata": {},
   "outputs": [],
   "source": [
    "def spell_check(word):\n",
    "    \"Print the most probable spelling correction for `word` out of all the `possible_corrections`\"\n",
    "    correct_word = max(possible_corrections(word), key=prob)\n",
    "    if correct_word != word:\n",
    "        return \"Did you mean \" + correct_word + \"?\"\n",
    "    else:\n",
    "        return \"Correct spelling.\""
   ]
  },
  {
   "cell_type": "code",
   "execution_count": 137,
   "metadata": {},
   "outputs": [
    {
     "name": "stdout",
     "output_type": "stream",
     "text": [
      "Did you mean money?\n"
     ]
    }
   ],
   "source": [
    "# test spell check\n",
    "print(spell_check(\"monney\"))"
   ]
  },
  {
   "cell_type": "code",
   "execution_count": 138,
   "metadata": {},
   "outputs": [
    {
     "data": {
      "text/plain": [
       "['monney']"
      ]
     },
     "execution_count": 138,
     "metadata": {},
     "output_type": "execute_result"
    }
   ],
   "source": [
    "['monney']"
   ]
  },
  {
   "cell_type": "code",
   "execution_count": 139,
   "metadata": {},
   "outputs": [
    {
     "name": "stdout",
     "output_type": "stream",
     "text": [
      "{'monkey', 'money'}\n"
     ]
    }
   ],
   "source": [
    "print({'monkey', 'money'} or {'monkey', 'money'} or ['monney'])"
   ]
  },
  {
   "cell_type": "code",
   "execution_count": 140,
   "metadata": {},
   "outputs": [
    {
     "name": "stdout",
     "output_type": "stream",
     "text": [
      "{'monkey', 'money'}\n"
     ]
    }
   ],
   "source": [
    "print({'monkey', 'money'} or ['monney'])"
   ]
  },
  {
   "cell_type": "code",
   "execution_count": 141,
   "metadata": {},
   "outputs": [
    {
     "name": "stdout",
     "output_type": "stream",
     "text": [
      "['monney']\n"
     ]
    }
   ],
   "source": [
    "print({} or ['monney'])"
   ]
  },
  {
   "cell_type": "code",
   "execution_count": 142,
   "metadata": {},
   "outputs": [
    {
     "name": "stdout",
     "output_type": "stream",
     "text": [
      "Correct spelling.\n"
     ]
    }
   ],
   "source": [
    "# test spell check\n",
    "print(spell_check(\"wealttthiiii\"))"
   ]
  },
  {
   "cell_type": "code",
   "execution_count": 143,
   "metadata": {},
   "outputs": [
    {
     "name": "stdout",
     "output_type": "stream",
     "text": [
      "['wealttthiiii']\n"
     ]
    }
   ],
   "source": [
    "print(possible_corrections(\"wealttthiiii\"))"
   ]
  },
  {
   "cell_type": "code",
   "execution_count": 144,
   "metadata": {},
   "outputs": [
    {
     "data": {
      "text/plain": [
       "0"
      ]
     },
     "execution_count": 144,
     "metadata": {},
     "output_type": "execute_result"
    }
   ],
   "source": [
    "all_words['wealttthiiii']"
   ]
  },
  {
   "cell_type": "code",
   "execution_count": 145,
   "metadata": {},
   "outputs": [
    {
     "name": "stdout",
     "output_type": "stream",
     "text": [
      "442\n"
     ]
    }
   ],
   "source": [
    "print(len(edits_one('emfasize')))"
   ]
  },
  {
   "cell_type": "code",
   "execution_count": 146,
   "metadata": {},
   "outputs": [
    {
     "data": {
      "text/plain": [
       "generator"
      ]
     },
     "execution_count": 146,
     "metadata": {},
     "output_type": "execute_result"
    }
   ],
   "source": [
    "type(edits_two(\"emfasize\"))\n"
   ]
  },
  {
   "cell_type": "code",
   "execution_count": 147,
   "metadata": {},
   "outputs": [
    {
     "name": "stdout",
     "output_type": "stream",
     "text": [
      "90902\n"
     ]
    }
   ],
   "source": [
    "print(len(set(edits_two(\"emfasize\"))))"
   ]
  },
  {
   "cell_type": "code",
   "execution_count": 148,
   "metadata": {},
   "outputs": [
    {
     "name": "stdout",
     "output_type": "stream",
     "text": [
      "{'emphasize'}\n"
     ]
    }
   ],
   "source": [
    "print(possible_corrections(\"emfasize\"))"
   ]
  },
  {
   "cell_type": "code",
   "execution_count": 150,
   "metadata": {},
   "outputs": [],
   "source": [
    "import math"
   ]
  },
  {
   "cell_type": "code",
   "execution_count": 152,
   "metadata": {},
   "outputs": [
    {
     "data": {
      "text/plain": [
       "0.6666666666666666"
      ]
     },
     "execution_count": 152,
     "metadata": {},
     "output_type": "execute_result"
    }
   ],
   "source": [
    "0.5/0.75"
   ]
  },
  {
   "cell_type": "code",
   "execution_count": 151,
   "metadata": {},
   "outputs": [
    {
     "data": {
      "text/plain": [
       "-0.17609125905568127"
      ]
     },
     "execution_count": 151,
     "metadata": {},
     "output_type": "execute_result"
    }
   ],
   "source": [
    "math.log10(0.5/0.75)"
   ]
  },
  {
   "cell_type": "code",
   "execution_count": 154,
   "metadata": {},
   "outputs": [
    {
     "data": {
      "text/plain": [
       "-0.17587416608345102"
      ]
     },
     "execution_count": 154,
     "metadata": {},
     "output_type": "execute_result"
    }
   ],
   "source": [
    "math.log10(0.667)"
   ]
  },
  {
   "cell_type": "code",
   "execution_count": null,
   "metadata": {},
   "outputs": [],
   "source": []
  },
  {
   "cell_type": "code",
   "execution_count": null,
   "metadata": {},
   "outputs": [],
   "source": []
  },
  {
   "cell_type": "code",
   "execution_count": null,
   "metadata": {},
   "outputs": [],
   "source": []
  },
  {
   "cell_type": "code",
   "execution_count": null,
   "metadata": {},
   "outputs": [],
   "source": []
  }
 ],
 "metadata": {
  "kernelspec": {
   "display_name": "Python 3",
   "language": "python",
   "name": "python3"
  },
  "language_info": {
   "codemirror_mode": {
    "name": "ipython",
    "version": 3
   },
   "file_extension": ".py",
   "mimetype": "text/x-python",
   "name": "python",
   "nbconvert_exporter": "python",
   "pygments_lexer": "ipython3",
   "version": "3.6.5"
  }
 },
 "nbformat": 4,
 "nbformat_minor": 2
}
