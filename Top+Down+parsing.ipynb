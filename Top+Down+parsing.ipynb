{
 "cells": [
  {
   "cell_type": "code",
   "execution_count": 14,
   "metadata": {},
   "outputs": [],
   "source": [
    "#Specification of CFG\n",
    "import nltk, os \n",
    "from nltk import Tree\n",
    "\n",
    "path_to_gs = \"C:\\Program Files\\gs\\gs9.26\"\n",
    "\n",
    "os.environ['PATH'] += os.pathsep + path_to_gs\n",
    "\n",
    "grammar = nltk.CFG.fromstring(\"\"\"\n",
    "S -> NP VP\n",
    "NP -> Det N | Det N PP\n",
    "VP -> V | V NP | V NP PP\n",
    "PP -> P NP\n",
    "\n",
    "Det -> 'a' | 'an' | 'the'\n",
    "N -> 'man' | 'park' | 'dog' | 'telescope'\n",
    "V -> 'saw' | 'walked'\n",
    "P -> 'in' | 'with'\n",
    "\"\"\")"
   ]
  },
  {
   "cell_type": "code",
   "execution_count": 3,
   "metadata": {},
   "outputs": [
    {
     "name": "stdout",
     "output_type": "stream",
     "text": [
      "(S\n",
      "  (NP (Det the) (N man))\n",
      "  (VP\n",
      "    (V saw)\n",
      "    (NP\n",
      "      (Det a)\n",
      "      (N dog)\n",
      "      (PP\n",
      "        (P in)\n",
      "        (NP\n",
      "          (Det the)\n",
      "          (N park)\n",
      "          (PP (P with) (NP (Det a) (N telescope))))))))\n",
      "(S\n",
      "  (NP (Det the) (N man))\n",
      "  (VP\n",
      "    (V saw)\n",
      "    (NP (Det a) (N dog))\n",
      "    (PP\n",
      "      (P in)\n",
      "      (NP\n",
      "        (Det the)\n",
      "        (N park)\n",
      "        (PP (P with) (NP (Det a) (N telescope)))))))\n",
      "(S\n",
      "  (NP (Det the) (N man))\n",
      "  (VP\n",
      "    (V saw)\n",
      "    (NP (Det a) (N dog) (PP (P in) (NP (Det the) (N park))))\n",
      "    (PP (P with) (NP (Det a) (N telescope)))))\n"
     ]
    }
   ],
   "source": [
    "str = \"the man saw a dog in the park with a telescope\"\n",
    "\n",
    "from nltk.parse import RecursiveDescentParser\n",
    "\n",
    "#Using a top-down parser\n",
    "rdstr = RecursiveDescentParser(grammar)\n",
    "\n",
    "#Print each of the trees \n",
    "for tree in rdstr.parse(str.split()):\n",
    "    print(tree)"
   ]
  },
  {
   "cell_type": "code",
   "execution_count": 4,
   "metadata": {},
   "outputs": [
    {
     "data": {
      "image/png": "[encoded data removed]",
      "text/plain": [
       "Tree('S', [Tree('NP', [Tree('Det', ['the']), Tree('N', ['man'])]), Tree('VP', [Tree('V', ['saw']), Tree('NP', [Tree('Det', ['a']), Tree('N', ['dog']), Tree('PP', [Tree('P', ['in']), Tree('NP', [Tree('Det', ['the']), Tree('N', ['park'])])])]), Tree('PP', [Tree('P', ['with']), Tree('NP', [Tree('Det', ['a']), Tree('N', ['telescope'])])])])])"
      ]
     },
     "execution_count": 4,
     "metadata": {},
     "output_type": "execute_result"
    }
   ],
   "source": [
    "#The last tree looks like this - \n",
    "tree"
   ]
  },
  {
   "cell_type": "code",
   "execution_count": 5,
   "metadata": {},
   "outputs": [
    {
     "data": {
      "text/plain": [
       "nltk.tree.Tree"
      ]
     },
     "execution_count": 5,
     "metadata": {},
     "output_type": "execute_result"
    }
   ],
   "source": [
    "type(tree)"
   ]
  },
  {
   "cell_type": "code",
   "execution_count": null,
   "metadata": {},
   "outputs": [],
   "source": [
    "nltk.app.rdparser()\n",
    "# once the recursive descent parser application opens, \n",
    "# you can edit the 'Text' and 'Grammar' according to your requirements\n"
   ]
  },
  {
   "cell_type": "code",
   "execution_count": null,
   "metadata": {},
   "outputs": [],
   "source": [
    "# grammar2 = nltk.CFG.fromstring('''\n",
    "# S -> NP VP\n",
    "# NP ->  NP PP | DT NN\n",
    "# VP -> V JJ\n",
    "# PP -> IN NP\n",
    "# DT -> 'The' | 'the'\n",
    "# NN -> 'work' | ‘analyst’\n",
    "# V -> 'is'\n",
    "# JJ -> 'good'\n",
    "# IN -> 'of'\n",
    "# ''')"
   ]
  },
  {
   "cell_type": "code",
   "execution_count": null,
   "metadata": {},
   "outputs": [],
   "source": [
    "#str = \"The work of the analyst is good\" \n",
    "# The above string and grammer2 will lead to recursion problem\n",
    "\n",
    "# #Using a top-down parser\n",
    "# rdstr2 = RecursiveDescentParser(grammar2)\n",
    "\n",
    "# #Print each of the trees \n",
    "# for tree in rdstr.parse(str.split()):\n",
    "#     print(tree)"
   ]
  },
  {
   "cell_type": "code",
   "execution_count": 32,
   "metadata": {},
   "outputs": [],
   "source": [
    "str1 = '''(S\n",
    "            (NP (DT the) (N child))\n",
    "            (VP\n",
    "               (VP (VP (V sleeps)) (PP (P on) (NP (DT the) (N bed))))\n",
    "               (PP (P with) (NP (N cushion)))))\n",
    "'''"
   ]
  },
  {
   "cell_type": "code",
   "execution_count": 33,
   "metadata": {},
   "outputs": [],
   "source": [
    "tree1 = Tree.fromstring(str1)"
   ]
  },
  {
   "cell_type": "code",
   "execution_count": 34,
   "metadata": {},
   "outputs": [
    {
     "data": {
      "image/png": "[encoded data removed]",
      "text/plain": [
       "Tree('S', [Tree('NP', [Tree('DT', ['the']), Tree('N', ['child'])]), Tree('VP', [Tree('VP', [Tree('VP', [Tree('V', ['sleeps'])]), Tree('PP', [Tree('P', ['on']), Tree('NP', [Tree('DT', ['the']), Tree('N', ['bed'])])])]), Tree('PP', [Tree('P', ['with']), Tree('NP', [Tree('N', ['cushion'])])])])])"
      ]
     },
     "execution_count": 34,
     "metadata": {},
     "output_type": "execute_result"
    }
   ],
   "source": [
    "tree1"
   ]
  },
  {
   "cell_type": "code",
   "execution_count": null,
   "metadata": {},
   "outputs": [],
   "source": [
    "tree_gram = '''\n",
    "S -> NP VP (1.0)\n",
    "PP -> P NP (1.0)\n",
    "VP -> V NP (0.3)| VP PP (0.4) | V (0.3)\n",
    "NP -> DT N (0.4) | N (0.35) | NP PP (0.25)\n",
    "P -> ‘on’ (0.4) | ‘with’ (0.6)\n",
    "V -> ‘sleeps’ (1.0)\n",
    "N -> ‘child’ (0.5)| ‘bed’ (0.3) | ‘cushion’ (0.2)\n",
    "DT -> ‘the’ (1.0)\n",
    "'''"
   ]
  },
  {
   "cell_type": "code",
   "execution_count": 35,
   "metadata": {},
   "outputs": [],
   "source": [
    "str2 = '''(S\n",
    "            (NP (DT the) (N child))\n",
    "            (VP\n",
    "               (VP (V sleeps))\n",
    "               (PP\n",
    "                 (P on)\n",
    "                (NP\n",
    "                   (NP (DT the) (N bed))\n",
    "                   (PP (P with) (NP (N cushion)))))))'''"
   ]
  },
  {
   "cell_type": "code",
   "execution_count": 36,
   "metadata": {},
   "outputs": [],
   "source": [
    "tree2 = Tree.fromstring(str1)"
   ]
  },
  {
   "cell_type": "code",
   "execution_count": 37,
   "metadata": {},
   "outputs": [
    {
     "data": {
      "image/png": "[encoded data removed]",
      "text/plain": [
       "Tree('S', [Tree('NP', [Tree('DT', ['the']), Tree('N', ['child'])]), Tree('VP', [Tree('VP', [Tree('VP', [Tree('V', ['sleeps'])]), Tree('PP', [Tree('P', ['on']), Tree('NP', [Tree('DT', ['the']), Tree('N', ['bed'])])])]), Tree('PP', [Tree('P', ['with']), Tree('NP', [Tree('N', ['cushion'])])])])])"
      ]
     },
     "execution_count": 37,
     "metadata": {},
     "output_type": "execute_result"
    }
   ],
   "source": [
    "tree2"
   ]
  },
  {
   "cell_type": "code",
   "execution_count": null,
   "metadata": {},
   "outputs": [],
   "source": []
  }
 ],
 "metadata": {
  "kernelspec": {
   "display_name": "Python 3",
   "language": "python",
   "name": "python3"
  },
  "language_info": {
   "codemirror_mode": {
    "name": "ipython",
    "version": 3
   },
   "file_extension": ".py",
   "mimetype": "text/x-python",
   "name": "python",
   "nbconvert_exporter": "python",
   "pygments_lexer": "ipython3",
   "version": "3.6.5"
  }
 },
 "nbformat": 4,
 "nbformat_minor": 2
}
